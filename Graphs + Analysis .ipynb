{
 "cells": [
  {
   "cell_type": "code",
   "execution_count": 1,
   "metadata": {
    "scrolled": false
   },
   "outputs": [
    {
     "name": "stderr",
     "output_type": "stream",
     "text": [
      "Using cuDNN version 7104 on context None\n",
      "Mapped name None to device cuda0: GeForce GTX 1070 (0000:01:00.0)\n"
     ]
    },
    {
     "name": "stdout",
     "output_type": "stream",
     "text": [
      "[[u'``', 570], [u'The', 354], [u'But', 137], [u'It', 130], [u'He', 117], [u'They', 113], ['@UNK', 103], [u'In', 81], [u'A', 72], [u'And', 69], [u'She', 64], [u'That', 51], [u'I', 44], [u'We', 32], [u'When', 32], [u'Some', 30], [u'This', 24], [u'If', 24], [u'There', 23], [u'As', 23], [u'His', 20], [u'At', 20], [u'the', 18], [u'One', 18], [u'What', 17], [u'For', 17], [u'Now', 16], [u'Most', 16], [u'After', 15], [u'So', 15], [u'On', 15], [u'Many', 15], [u'You', 14], [u'Since', 13], [u'Their', 13], [u'Then', 13], [u'Last', 12], [u'By', 11], [u'a', 11], [u'More', 11], [u'While', 11], [u'.', 11], [u'Those', 11], [u'No', 10], [u'Even', 10], [u'Instead', 9], [u'With', 9], [u'Once', 9], [u'Scientists', 9], [u'and', 8], [u'Her', 8], [u'to', 8], [u'An', 8], [u',', 8], [u'LRB', 8], [u'These', 8], [u'...', 7], [u'To', 7], [u'According', 7], [u'Although', 7], [u'People', 7], [u'Over', 6], [u'are', 6], [u'Such', 6], [u'he', 6], [u'About', 6], [u'However', 6], [u'Because', 6], [u'Two', 6], [u'All', 6], [u'Each', 6], [u'Others', 5], [u'in', 5], [u'Not', 5], [u'said', 5], [u'she', 5], [u'Until', 4], [u'Our', 4], [u'How', 4], [u'Everybody', 4], [u'Despite', 4], [u'Yet', 4], [u'Though', 4], [u'Just', 4], [u'Earlier', 4], [u'Other', 4], [u'Three', 4], [u'During', 4], [u'Nothing', 4], [u'Republicans', 4], [u'Looking', 4], [u'of', 4], [u'Government', 4], [u'Like', 4], [u'Levant', 4], [u'Much', 4], [u'Local', 4], [u'Disney', 3], [u'Shortly', 3], [u'Or', 3], [u'Twelve', 3], [u'Thousands', 3], [u'year', 3], [u'Brooks', 3], [u'German', 3], [u'Evans', 3], [u'it', 3], [u'Officials', 3], [u'None', 3], [u'has', 3], [u'Also', 3], [u'Gray', 3], [u'Police', 3], [u'Few', 3], [u'school', 3], [u'SeaWorld', 3], [u'Apple', 3], [u'Children', 3], [u'by', 3], [u'Researchers', 3], [u'Crews', 3], [u'Its', 3], [u'have', 3], [u'Michigan', 3], [u'President', 3], [u'surrounded', 3], [u'Tens', 3], [u'Does', 2], [u'long', 2], [u'Can', 2], [u'Place', 2], [u'for', 2], [u'Intel', 2], [u'San', 2], [u'Wildlife', 2], [u'us', 2], [u'Ma', 2], [u'Where', 2], [u'Unlike', 2], [u'Copeland', 2], [u'Still', 2], [u'they', 2], [u'get', 2], [u'From', 2], [u'Morsi', 2], [u'with', 2], [u'Players', 2], [u'Fish', 2], [u'travelers', 2], [u'Food', 2], [u'Businesses', 2], [u'Parents', 2], [u'California', 2], [u'Chavez', 2], [u'Google', 2], [u'Greece', 2], [u'harmful', 2], [u'Without', 2], [u'says', 2], [u'Experts', 2], [u'who', 2], [u'Sales', 2], [u'Next', 2], [u'High', 2], [u'Part', 2], ['@SEND', 2], [u'think', 2], [u'Schools', 2], [u'Peace', 2], [u'Historians', 2], [u'King', 2], [u'this', 2], [u'Buhari', 2], [u'small', 2], [u'as', 2], [u'House', 2], [u'how', 2], [u'Both', 2], [u'Forty', 2], [u'Young', 2], [u'Rather', 2], [u'Obama', 2], [u'Going', 2], [u'Of', 2], [u'violence', 2], [u'Being', 2], [u'Remember', 2], [u'body', 2], [u'percent', 2], [u'Life', 2], [u'short', 2], [u'Getting', 2], [u'State', 2], [u'but', 2], [u'Federal', 2], [u'Wilson', 2], [u'their', 2], [u'Dozens', 2], [u'Six', 2], [u'Bagu', 2], [u'LSB', 2], [u'Students', 2], [u'My', 2], [u'is', 2], [u'know', 2], [u'Nearly', 2], [u'on', 2], [u'more', 2], [u'Think', 2], [u'Eleven', 2], [u'that', 2], [u'Only', 2], [u'Florida', 2], [u'Texas', 2], [u'Utah', 2], [u'Above', 2], [u'Under', 2], [u'Mark', 2], [u'Additionally', 2], [u'Typically', 2], [u'Durst', 2], [u'Fishing', 2], [u'asked', 2], [u'do', 2], [u'China', 2], [u'had', 2], [u'Wolves', 2], [u'Among', 2], [u'Taking', 2], [u'Islamic', 2], [u'aerial', 2], [u'camp', 2], [u'ISIL', 2], [u'Zimmerman', 2], [u'Wearing', 2], [u'rights', 2], [u'among', 1], [u'until', 1], [u'Authorities', 1], [u'Any', 1], [u'Nyong', 1], [u'Will', 1], [u'off', 1], [u'Maybe', 1], [u'Every', 1], [u'graduate', 1], [u'Gonzalez', 1], [u'corn', 1], [u'Goodman', 1], [u'Educators', 1], [u'Seven', 1], [u'coming', 1], [u'Prior', 1], [u'neck', 1], [u'Increasing', 1], [u'Cope', 1], [u'delivered', 1], [u'light', 1], [u'anxiety', 1], [u'theories', 1], [u'depression', 1], [u'Nussbaum', 1], [u'already', 1], [u'apps', 1], [u'Northern', 1], [u'Altogether', 1], [u'Marchenko', 1], [u'Historically', 1], [u'regular', 1], [u'Residents', 1], [u'answers', 1], [u'White', 1], [u'Asians', 1], [u'Currently', 1], [u'Tiger', 1], [u'Except', 1], [u'Measure', 1], [u'Vermont', 1], [u'Cooper', 1], [u'$', 1], [u'Soon', 1], [u'Keeping', 1], [u'Allen', 1], [u'Shooting', 1], [u'YouTube', 1], [u'Wal', 1], [u'Besides', 1], [u'Lottie', 1], [u'GoldieBlox', 1], [u'Doc', 1], [u'Hanson', 1], [u'years', 1], [u'Hunting', 1], [u'Save', 1], [u'Cody', 1], [u'Oregon', 1], [u'Ecology', 1], [u'hope', 1], [u'makes', 1], [u'capable', 1], [u'today', 1], [u'ankle', 1], [u'programmed', 1], [u'command', 1], [u'Dr.', 1], [u'according', 1], [u'Nowadays', 1], [u'four', 1], [u'easier', 1], [u'John', 1], [u'exercise', 1], [u'Shubham', 1], [u'Braigo', 1], [u'possibly', 1], [u'Essentially', 1], [u'Recent', 1], [u'First', 1], [u'Second', 1], [u'Finally', 1], [u'however', 1], [u'Clashes', 1], [u'vets', 1], [u'outdoor', 1], [u'week', 1], [u'into', 1], [u'fat', 1], [u'will', 1], [u'chances', 1], [u'chronic', 1], [u'Time', 1], [u'cleanup', 1], [u'record', 1], [u'brakes', 1], [u'adjusting', 1], [u'original', 1], [u'reproduce', 1], [u'millimeter', 1], [u'Emanuel', 1], [u'direction', 1], [u'Cruz', 1], [u'Yan', 1], [u'Starting', 1], [u'Retired', 1], [u'Jiang', 1], [u'meetings', 1], [u'Public', 1], [u'ranked', 1], [u'Rocky', 1], [u'Born', 1], [u'interviews', 1], [u'Wang', 1], [u'opportunities', 1], [u'Internet', 1], [u'Chinese', 1], [u'neighborhoods', 1], [u'includes', 1], [u'Former', 1], [u'Li', 1], [u'Smoking', 1], [u'Top', 1], [u'Late', 1], [u'Individual', 1], [u'average', 1], [u'Xi', 1], [u'Ten', 1], [u'months', 1], [u'Christie', 1], [u'most', 1], [u'inspired', 1], [u'Cooke', 1], [u'obtain', 1], [u'twice', 1], [u'activists', 1], [u'Sterling', 1], [u'Sen.', 1], [u'rounds', 1], [u'party', 1], [u'Giron', 1], [u'humanity', 1], [u'comet', 1], [u'ESA', 1], [u'Unfortunately', 1], [u'Imagine', 1], [u'8', 1], [u'her', 1], [u'pounds', 1], [u'Already', 1], [u'shellfish', 1], [u'Crab', 1], [u'significant', 1], [u'Barack', 1], [u'Thank', 1], [u'France', 1], [u'D', 1], [u'wartime', 1], [u'ceremonies', 1], [u'honor', 1], [u'Yee', 1], [u'Brady', 1], [u'Kyle', 1], [u'if', 1], [u'Diaz', 1], [u'Guzman', 1], [u'cloth', 1], [u'Women', 1], [u'free', 1], [u'Fossils', 1], [u'Several', 1], [u'Asked', 1], [u'walk', 1], [u'New', 1], [u'Fort', 1], [u'its', 1], [u'Spotted', 1], [u'economic', 1], [u'nudged', 1], [u'Carson', 1], [u'Real', 1], [u'homeowners', 1], [u'Sacramento', 1], [u'drills', 1], [u'Spanish', 1], [u'tweeted', 1], [u'El', 1], [u'Four', 1], [u'Gen.', 1], [u'Presidential', 1], [u'Tourism', 1], [u'God', 1], [u'want', 1], [u'Chaves', 1], [u'nowhere', 1], [u'Robots', 1], [u'football', 1], [u'big', 1], [u'defending', 1], [u'mining', 1], [u'bases', 1], [u'bomber', 1], [u'so', 1], [u'unrest', 1], [u'Music', 1], [u'straight', 1], [u'recent', 1], [u'Wesley', 1], [u'Louisiana', 1], [u'Republican', 1], [u'Independent', 1], [u'backers', 1], [u'Hogan', 1], [u'Lewis', 1], [u'Fire', 1], [u'otoliths', 1], [u'Thus', 1], [u'NOAA', 1], [u'technically', 1], [u'determining', 1], [u'just', 1], [u'Plenty', 1], [u'Eating', 1], [u'Conservative', 1], [u'Jane', 1], [u'bit', 1], [u'intrigued', 1], [u'flying', 1], [u'Spirit', 1], [u'Drug', 1], [u'Using', 1], [u'building', 1], [u'Companies', 1], [u'Elmhurst', 1], [u'largest', 1], [u'parents', 1], [u'caught', 1], [u'no', 1], [u'education', 1], [u'Unions', 1], [u'Everywhere', 1], [u'shippers', 1], [u'miles', 1], [u'eggs', 1], [u'go', 1], [u'Tennis', 1], [u'shots', 1], [u'provide', 1], [u'people', 1], [u'Indoor', 1], [u'Teenagers', 1], [u'Adults', 1], [u'constructed', 1], [u'Tuesday', 1], [u'Abbott', 1], [u'Lawyers', 1], [u'reason', 1], [u'Windsor', 1], [u'marriage', 1], [u'marry', 1], [u'you', 1], [u'Girls', 1], [u'strong', 1], [u'Fortunately', 1], [u'alongside', 1], [u'Given', 1], [u'Aside', 1], [u'bottom', 1], [u'Should', 1], [u'Coastal', 1], [u'Major', 1], [u'few', 1], [u'Due', 1], [u'Communist', 1], [u'Hong', 1], [u'Chief', 1], [u'flames', 1], [u'Online', 1], [u'visits', 1], [u'anticipate', 1], [u'board', 1], [u'from', 1], [u'Meanwhile', 1], [u'Reading', 1], [u'Clark', 1], [u'fly', 1], [u'old', 1], [u'Here', 1], [u'Suddenly', 1], [u'!', 1], [':', 1], [u'relying', 1], [u'Behind', 1], [u'Too', 1], [u'message', 1], [u'can', 1], [u'Is', 1], [u'Immigration', 1], [u'Who', 1], [u'consider', 1], [u'planets', 1], [u'Small', 1], [u'Which', 1], [u'Moving', 1], [u'Dugan', 1], [u'Nobody', 1], [u'Up', 1], [u'Put', 1], [u'Would', 1], [u'fairness', 1], [u'advantageous', 1], [u'Sometimes', 1], [u'bowl', 1], [u'age', 1], [u'Materials', 1], [u'Below', 1], [u'wooden', 1], [u'which', 1], [u'Stanford', 1], [u'or', 1], [u'County', 1], [u'Research', 1], [u'Generally', 1], [u'Anne', 1], [u'Paul', 1], [u'all', 1], [u'vegetables', 1], [u'Pakistan', 1], [u'busiest', 1], [u'Did', 1], [u'Could', 1], [u'Discovering', 1], [u'scientists', 1], [u'Half', 1], [u'science', 1], [u'life', 1], [u'Carroll', 1], [u'SANS', 1], [u'patients', 1], [u'facilities', 1], [u'daughter', 1], [u'promote', 1], [u'French', 1], [u'Officers', 1], [u'Business', 1], [u'Seattle', 1], [u'fewer', 1], [u'Miller', 1], [u'state', 1], [u'Handwriting', 1], [u'Herbert', 1], [u'Investigators', 1], [u'away', 1], [u'creating', 1], [u'new', 1], [u'steam', 1], [u'allows', 1], [u'Mount', 1], [u'horseshoe', 1], [u'though', 1], [u'measured', 1], [u'Inside', 1], [u'University', 1], [u'better', 1], [u'ordinary', 1], [u'rows', 1], [u'raspberries', 1], [u'Indian', 1], [u'Tribes', 1], [u'closer', 1], [u'goats', 1], [u'Plans', 1], [u'Study', 1], [u'Before', 1], [u'Supporters', 1], [u'Jonathan', 1], [u'names', 1], [u'final', 1], [u'Water', 1], [u'Eventually', 1], [u'Today', 1], [u'rather', 1], [u'production', 1], [u'human', 1], [u'posted', 1], [u'kids', 1], [u'Period', 1], [u'over', 1], [u'sign', 1], [u'Protests', 1], [u'civilian', 1], [u'peaceful', 1], [u'Charles', 1], [u'website', 1], [u'69', 1], [u'Lawmakers', 1], [u'negotiators', 1], [u'equal', 1], [u'floors', 1], [u'Throughout', 1], [u'Element', 1], [u'led', 1], [u'Traditionally', 1], [u'corals', 1], [u'warming', 1], [u'Evolution', 1], [u'organisms', 1], [u'Baker', 1], [u'others', 1], [u'Consumers', 1], [u'Predators', 1], [u'Thirty', 1], [u'Worldwide', 1], [u'Twenty', 1], [u'leave', 1], [u'fully', 1], [u'`', 1], [u'Charlene', 1], [u'Facing', 1], [u'Halbritter', 1], [u'use', 1], [u'Make', 1], [u'being', 1], [u'Hours', 1], [u'Low', 1], [u'official', 1], [u'Board', 1], [u'youngsters', 1], [u'Poludnitsina', 1], [u'Word', 1], [u'identify', 1], [u'Economic', 1], [u'Criminal', 1], [u'Western', 1], [u'Bill', 1], [u'Neither', 1], [u'pray', 1], [u'jumping', 1], [u'anniversary', 1], [u'Robert', 1], [u'against', 1], [u'Boys', 1], [u'Basketball', 1], [u'due', 1], [u'publicity', 1], [u'Jiddah', 1], [u'joining', 1], [u'Working', 1], [u'School', 1], [u'Guards', 1], [u'Afterward', 1], [u'Something', 1], [u'them', 1], [u'Normally', 1], [u'Days', 1], [u'Slager', 1], [u'Defense', 1], [u'story', 1], [u'talk', 1], [u'Omaha', 1], [u'an', 1], [u'Older', 1], [u'Often', 1], [u'case', 1], [u'Five', 1], [u'tense', 1], [u'estimates', 1], [u'owl', 1], [u'educated', 1], [u'separatist', 1], [u'was', 1], [u'Juan', 1], [u'Through', 1], [u'Martin', 1], [u'magical', 1], [u'blues', 1], [u'Kim', 1], [u'different', 1], [u'Falvey', 1], [u'Nor', 1], [u'Academic', 1], [u'family', 1], [u'Gov.', 1], [u'Anderson', 1], [u'similarities', 1], [u'harm', 1], [u'principals', 1], [u'Teachers', 1], [u'make', 1], [u'after', 1], [u'Pilots', 1], [u'Troops', 1], [u'notably', 1], [u'neither', 1], [u'Houser', 1], [u'students', 1], [u'Slavery', 1], [u'textbook', 1], [u'Regardless', 1], [u'McGraw', 1], [u'night', 1], [u'chains', 1], [u'Publix', 1], [u'attraction', 1], [u'would', 1], [u'British', 1], [u'Toyota', 1], [u'cost', 1], [u'Toys', 1], [u'Hundreds', 1], [u'robotic', 1], [u'sound', 1], [u'Mattel', 1], [u'Jackson', 1], [u'Angel', 1], [u'railroads', 1], [u'not', 1], [u'leaning', 1], [u'Media', 1], [u'high', 1], [u'Coach', 1], [u'committing', 1], [u'increasingly', 1], [u'cruel', 1], [u'Coaches', 1], [u'Social', 1], [u'Population', 1], [u'North', 1], [u'Pennsylvania', 1], [u'steep', 1], [u'Michele', 1], [u'devices', 1], [u'Inc.', 1], [u'Ramirez', 1], [u'laptop', 1], [u'Employees', 1], [u'Smith', 1], [u'Blake', 1], [u'Brass', 1], [u'Poor', 1], [u'Connecticut', 1], [u'Later', 1], [u'Micheau', 1], [u'Democrats', 1], [u'believe', 1], [u'Dry', 1], [u'Runsten', 1], [u'expenses', 1], [u'some', 1], [u'flow', 1], [u'pumping', 1], [u'Crime', 1], [u'referring', 1], [u'Rescuers', 1], [u'condition', 1], [u'when', 1], [u'2020', 1], [u'2022', 1], [u'Sophie', 1], [u'Native', 1], [u'Fear', 1], [u'study', 1], [u'yawns', 1], [u'activities', 1], [u'at', 1], [u'Together', 1], [u'Roller', 1], [u'Engineers', 1], [u'Air', 1], [u'elevators', 1], [u'WTC', 1], [u'because', 1], [u'Ruiz', 1], [u'Holder', 1], [u'ground', 1], [u'Jesse', 1], [u'Prosecutors', 1], [u'identifies', 1]]\n"
     ]
    },
    {
     "ename": "ValueError",
     "evalue": "color kwarg must have one color per dataset",
     "output_type": "error",
     "traceback": [
      "\u001b[0;31m---------------------------------------------------------------------------\u001b[0m",
      "\u001b[0;31mValueError\u001b[0m                                Traceback (most recent call last)",
      "\u001b[0;32m<ipython-input-1-028456075acf>\u001b[0m in \u001b[0;36m<module>\u001b[0;34m()\u001b[0m\n\u001b[1;32m     21\u001b[0m \u001b[0;34m\u001b[0m\u001b[0m\n\u001b[1;32m     22\u001b[0m \u001b[0;32mfor\u001b[0m \u001b[0mi\u001b[0m \u001b[0;32min\u001b[0m \u001b[0mrange\u001b[0m\u001b[0;34m(\u001b[0m\u001b[0mlen\u001b[0m\u001b[0;34m(\u001b[0m\u001b[0mdata\u001b[0m\u001b[0;34m)\u001b[0m\u001b[0;34m)\u001b[0m\u001b[0;34m:\u001b[0m\u001b[0;34m\u001b[0m\u001b[0m\n\u001b[0;32m---> 23\u001b[0;31m     \u001b[0max\u001b[0m\u001b[0;34m[\u001b[0m\u001b[0mi\u001b[0m\u001b[0;34m]\u001b[0m\u001b[0;34m.\u001b[0m\u001b[0mhist\u001b[0m\u001b[0;34m(\u001b[0m\u001b[0;34m[\u001b[0m\u001b[0mx\u001b[0m \u001b[0;34m*\u001b[0m \u001b[0;36m100\u001b[0m \u001b[0;32mfor\u001b[0m \u001b[0mx\u001b[0m \u001b[0;32min\u001b[0m \u001b[0mdata\u001b[0m\u001b[0;34m[\u001b[0m\u001b[0mi\u001b[0m\u001b[0;34m]\u001b[0m\u001b[0;34m]\u001b[0m\u001b[0;34m,\u001b[0m \u001b[0mbins\u001b[0m\u001b[0;34m,\u001b[0m \u001b[0malpha\u001b[0m \u001b[0;34m=\u001b[0m \u001b[0;36m0.5\u001b[0m\u001b[0;34m,\u001b[0m \u001b[0mcolor\u001b[0m \u001b[0;34m=\u001b[0m \u001b[0mcolors\u001b[0m\u001b[0;34m[\u001b[0m\u001b[0mi\u001b[0m\u001b[0;34m]\u001b[0m\u001b[0;34m)\u001b[0m\u001b[0;34m\u001b[0m\u001b[0m\n\u001b[0m\u001b[1;32m     24\u001b[0m     \u001b[0;31m#ax[i].set_xlabel('NN Probability')\u001b[0m\u001b[0;34m\u001b[0m\u001b[0;34m\u001b[0m\u001b[0m\n\u001b[1;32m     25\u001b[0m     \u001b[0;31m#ax[i].set_ylabel('Probability density')\u001b[0m\u001b[0;34m\u001b[0m\u001b[0;34m\u001b[0m\u001b[0m\n",
      "\u001b[0;32m/opt/conda/lib/python2.7/site-packages/matplotlib/__init__.pyc\u001b[0m in \u001b[0;36minner\u001b[0;34m(ax, *args, **kwargs)\u001b[0m\n\u001b[1;32m   1853\u001b[0m                         \u001b[0;34m\"the Matplotlib list!)\"\u001b[0m \u001b[0;34m%\u001b[0m \u001b[0;34m(\u001b[0m\u001b[0mlabel_namer\u001b[0m\u001b[0;34m,\u001b[0m \u001b[0mfunc\u001b[0m\u001b[0;34m.\u001b[0m\u001b[0m__name__\u001b[0m\u001b[0;34m)\u001b[0m\u001b[0;34m,\u001b[0m\u001b[0;34m\u001b[0m\u001b[0m\n\u001b[1;32m   1854\u001b[0m                         RuntimeWarning, stacklevel=2)\n\u001b[0;32m-> 1855\u001b[0;31m             \u001b[0;32mreturn\u001b[0m \u001b[0mfunc\u001b[0m\u001b[0;34m(\u001b[0m\u001b[0max\u001b[0m\u001b[0;34m,\u001b[0m \u001b[0;34m*\u001b[0m\u001b[0margs\u001b[0m\u001b[0;34m,\u001b[0m \u001b[0;34m**\u001b[0m\u001b[0mkwargs\u001b[0m\u001b[0;34m)\u001b[0m\u001b[0;34m\u001b[0m\u001b[0m\n\u001b[0m\u001b[1;32m   1856\u001b[0m \u001b[0;34m\u001b[0m\u001b[0m\n\u001b[1;32m   1857\u001b[0m         inner.__doc__ = _add_data_doc(inner.__doc__,\n",
      "\u001b[0;32m/opt/conda/lib/python2.7/site-packages/matplotlib/axes/_axes.pyc\u001b[0m in \u001b[0;36mhist\u001b[0;34m(***failed resolving arguments***)\u001b[0m\n\u001b[1;32m   6502\u001b[0m             \u001b[0mcolor\u001b[0m \u001b[0;34m=\u001b[0m \u001b[0mmcolors\u001b[0m\u001b[0;34m.\u001b[0m\u001b[0mto_rgba_array\u001b[0m\u001b[0;34m(\u001b[0m\u001b[0mcolor\u001b[0m\u001b[0;34m)\u001b[0m\u001b[0;34m\u001b[0m\u001b[0m\n\u001b[1;32m   6503\u001b[0m             \u001b[0;32mif\u001b[0m \u001b[0mlen\u001b[0m\u001b[0;34m(\u001b[0m\u001b[0mcolor\u001b[0m\u001b[0;34m)\u001b[0m \u001b[0;34m!=\u001b[0m \u001b[0mnx\u001b[0m\u001b[0;34m:\u001b[0m\u001b[0;34m\u001b[0m\u001b[0m\n\u001b[0;32m-> 6504\u001b[0;31m                 \u001b[0;32mraise\u001b[0m \u001b[0mValueError\u001b[0m\u001b[0;34m(\u001b[0m\u001b[0;34m\"color kwarg must have one color per dataset\"\u001b[0m\u001b[0;34m)\u001b[0m\u001b[0;34m\u001b[0m\u001b[0m\n\u001b[0m\u001b[1;32m   6505\u001b[0m \u001b[0;34m\u001b[0m\u001b[0m\n\u001b[1;32m   6506\u001b[0m         \u001b[0;31m# If bins are not specified either explicitly or via range,\u001b[0m\u001b[0;34m\u001b[0m\u001b[0;34m\u001b[0m\u001b[0m\n",
      "\u001b[0;31mValueError\u001b[0m: color kwarg must have one color per dataset"
     ]
    }
   ],
   "source": [
    "import sys\n",
    "import pylab as pl\n",
    "import matplotlib.pyplot as plt\n",
    "import numpy as np\n",
    "\n",
    "sys.path.insert(0, './src')\n",
    "import simpProbabilities\n",
    "import classpaths as path\n",
    "\n",
    "# data = simpProbabilities.sentence_data(path.nnetFile, path.indexFile, path.DEFAULT_MODEL_NAME)\n",
    "data = simpProbabilities.sentence_data(path.KRIZ_BZ2_FILE, path.KRIZ_IDX_FILE, path.PREDICTIONS + \"paper-probs.h5\")\n",
    "labels = ('Complex Correct', 'Simple Correct', 'Complex Wrong', 'Simple Wrong')\n",
    "colors = ('r', 'g', 'b', 'y')\n",
    "\n",
    "bins = np.linspace(0, 100, 100)\n",
    "plt.style.use('classic')\n",
    "plt.rcParams['figure.figsize'] = (10,10)\n",
    "\n",
    "fig, ax = plt.subplots(4, sharex = True)\n",
    "#fig, ax = plt.subplots(2, 2, sharex='col', sharey='row')\n",
    "\n",
    "for i in range(len(data)):\n",
    "    ax[i].hist([x * 100 for x in data[i]], bins, alpha = 0.5, color = colors[i])\n",
    "    #ax[i].set_xlabel('NN Probability')\n",
    "    #ax[i].set_ylabel('Probability density')\n",
    "    ax[i].set_title(r'Histogram of '+labels[i])\n",
    "\n",
    "fig.tight_layout()\n",
    "plt.show()"
   ]
  },
  {
   "cell_type": "code",
   "execution_count": 1,
   "metadata": {},
   "outputs": [
    {
     "ename": "NameError",
     "evalue": "name 'plt' is not defined",
     "output_type": "error",
     "traceback": [
      "\u001b[0;31m---------------------------------------------------------------------------\u001b[0m",
      "\u001b[0;31mNameError\u001b[0m                                 Traceback (most recent call last)",
      "\u001b[0;32m<ipython-input-1-536d0683d458>\u001b[0m in \u001b[0;36m<module>\u001b[0;34m()\u001b[0m\n\u001b[0;32m----> 1\u001b[0;31m \u001b[0;32mprint\u001b[0m\u001b[0;34m(\u001b[0m\u001b[0mplt\u001b[0m\u001b[0;34m.\u001b[0m\u001b[0mstyle\u001b[0m\u001b[0;34m.\u001b[0m\u001b[0mavailable\u001b[0m\u001b[0;34m)\u001b[0m\u001b[0;34m\u001b[0m\u001b[0m\n\u001b[0m",
      "\u001b[0;31mNameError\u001b[0m: name 'plt' is not defined"
     ]
    }
   ],
   "source": [
    "print(plt.style.available)"
   ]
  },
  {
   "cell_type": "code",
   "execution_count": 1,
   "metadata": {},
   "outputs": [
    {
     "name": "stdout",
     "output_type": "stream",
     "text": [
      "[u'i', u'me', u'my', u'myself', u'we', u'our', u'ours', u'ourselves', u'you', u\"you're\", u\"you've\", u\"you'll\", u\"you'd\", u'your', u'yours', u'yourself', u'yourselves', u'he', u'him', u'his', u'himself', u'she', u\"she's\", u'her', u'hers', u'herself', u'it', u\"it's\", u'its', u'itself', u'they', u'them', u'their', u'theirs', u'themselves', u'what', u'which', u'who', u'whom', u'this', u'that', u\"that'll\", u'these', u'those', u'am', u'is', u'are', u'was', u'were', u'be', u'been', u'being', u'have', u'has', u'had', u'having', u'do', u'does', u'did', u'doing', u'a', u'an', u'the', u'and', u'but', u'if', u'or', u'because', u'as', u'until', u'while', u'of', u'at', u'by', u'for', u'with', u'about', u'against', u'between', u'into', u'through', u'during', u'before', u'after', u'above', u'below', u'to', u'from', u'up', u'down', u'in', u'out', u'on', u'off', u'over', u'under', u'again', u'further', u'then', u'once', u'here', u'there', u'when', u'where', u'why', u'how', u'all', u'any', u'both', u'each', u'few', u'more', u'most', u'other', u'some', u'such', u'no', u'nor', u'not', u'only', u'own', u'same', u'so', u'than', u'too', u'very', u's', u't', u'can', u'will', u'just', u'don', u\"don't\", u'should', u\"should've\", u'now', u'd', u'll', u'm', u'o', u're', u've', u'y', u'ain', u'aren', u\"aren't\", u'couldn', u\"couldn't\", u'didn', u\"didn't\", u'doesn', u\"doesn't\", u'hadn', u\"hadn't\", u'hasn', u\"hasn't\", u'haven', u\"haven't\", u'isn', u\"isn't\", u'ma', u'mightn', u\"mightn't\", u'mustn', u\"mustn't\", u'needn', u\"needn't\", u'shan', u\"shan't\", u'shouldn', u\"shouldn't\", u'wasn', u\"wasn't\", u'weren', u\"weren't\", u'won', u\"won't\", u'wouldn', u\"wouldn't\"]\n"
     ]
    }
   ],
   "source": [
    "import newselautil\n",
    "print(newselautil.STOPWORDS)"
   ]
  },
  {
   "cell_type": "code",
   "execution_count": null,
   "metadata": {},
   "outputs": [],
   "source": []
  }
 ],
 "metadata": {
  "kernelspec": {
   "display_name": "Python 2",
   "language": "python",
   "name": "python2"
  },
  "language_info": {
   "codemirror_mode": {
    "name": "ipython",
    "version": 2
   },
   "file_extension": ".py",
   "mimetype": "text/x-python",
   "name": "python",
   "nbconvert_exporter": "python",
   "pygments_lexer": "ipython2",
   "version": "2.7.15"
  }
 },
 "nbformat": 4,
 "nbformat_minor": 2
}
