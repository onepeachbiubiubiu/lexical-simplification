{
 "cells": [
  {
   "cell_type": "markdown",
   "metadata": {},
   "source": [
    "# This notebook compares word complexity scores assigned by Amazon Mechanical Turk annotators (Kriz dataset) to actual substitutions made by Newsela specialists when they adapted articles to lower reading levels\n",
    "# Imports, Constants"
   ]
  },
  {
   "cell_type": "code",
   "execution_count": 1,
   "metadata": {},
   "outputs": [],
   "source": [
    "from glob import glob\n",
    "from tqdm import tqdm\n",
    "import numpy as np\n",
    "import re\n",
    "import sys\n",
    "from nltk.corpus import stopwords\n",
    "from aligner import align\n",
    "from utils import tokenize\n",
    "from man_auto_comparison import *"
   ]
  },
  {
   "cell_type": "markdown",
   "metadata": {},
   "source": [
    "# Loading and Analyzing the Datasets"
   ]
  },
  {
   "cell_type": "code",
   "execution_count": 2,
   "metadata": {},
   "outputs": [
    {
     "name": "stdout",
     "output_type": "stream",
     "text": [
      "Loading Kriz Dataset...\n"
     ]
    },
    {
     "name": "stderr",
     "output_type": "stream",
     "text": [
      "100%|██████████| 16293/16293 [00:00<00:00, 221673.72it/s]"
     ]
    },
    {
     "name": "stdout",
     "output_type": "stream",
     "text": [
      "Wrong scores encountered 6 times. These are [11, 11, 15, 11, 11, 11]\n",
      "Total words annotated: 16285, among them 3348 (20.0 percent) are complex, i.e. have score of 3 or higher\n",
      "Distribution of scores in percentages goes as follows:\n",
      "0\t1\t2\t3\t4\t5\t6\t7\t8\t9\t10\n",
      "61.0\t11.0\t6.0\t4.0\t3.0\t3.0\t2.0\t2.0\t2.0\t1.0\t0.0\n",
      "Mean is 1.35, median is 0, standard deviation is 2.32\n"
     ]
    },
    {
     "name": "stderr",
     "output_type": "stream",
     "text": [
      "\n"
     ]
    }
   ],
   "source": [
    "dataset = load_dataset()\n",
    "kriz_dataset_stats(dataset)"
   ]
  },
  {
   "cell_type": "code",
   "execution_count": 3,
   "metadata": {},
   "outputs": [
    {
     "name": "stdout",
     "output_type": "stream",
     "text": [
      "Indexing aligned data...\n"
     ]
    },
    {
     "name": "stderr",
     "output_type": "stream",
     "text": [
      "100%|██████████| 19198/19198 [00:11<00:00, 1718.08it/s]\n"
     ]
    }
   ],
   "source": [
    "aligned_data = load_aligned_data()"
   ]
  },
  {
   "cell_type": "markdown",
   "metadata": {},
   "source": [
    "# Comparing the complexity scores"
   ]
  },
  {
   "cell_type": "code",
   "execution_count": 4,
   "metadata": {},
   "outputs": [
    {
     "name": "stdout",
     "output_type": "stream",
     "text": [
      "Loading Kriz Dataset...\n"
     ]
    },
    {
     "name": "stderr",
     "output_type": "stream",
     "text": [
      "100%|██████████| 16293/16293 [00:00<00:00, 217872.90it/s]"
     ]
    },
    {
     "name": "stdout",
     "output_type": "stream",
     "text": [
      "Wrong scores encountered 6 times. These are [11, 11, 15, 11, 11, 11]\n",
      "Total words annotated: 16285, among them 3348 (20.0 percent) are complex, i.e. have score of 3 or higher\n",
      "Distribution of scores in percentages goes as follows:\n",
      "0\t1\t2\t3\t4\t5\t6\t7\t8\t9\t10\n",
      "61.0\t11.0\t6.0\t4.0\t3.0\t3.0\t2.0\t2.0\t2.0\t1.0\t0.0\n",
      "Mean is 1.35, median is 0, standard deviation is 2.32\n",
      "Indexing aligned data...\n"
     ]
    },
    {
     "name": "stderr",
     "output_type": "stream",
     "text": [
      "\n",
      "100%|██████████| 19198/19198 [00:11<00:00, 1725.77it/s]\n"
     ]
    },
    {
     "name": "stdout",
     "output_type": "stream",
     "text": [
      "Processing Kriz dataset...\n"
     ]
    },
    {
     "name": "stderr",
     "output_type": "stream",
     "text": [
      "100%|██████████| 1738/1738 [2:23:23<00:00,  4.95s/it]  \n"
     ]
    }
   ],
   "source": [
    "dataset = load_dataset()\n",
    "kriz_dataset_stats(dataset)\n",
    "aligned_data = load_aligned_data()\n",
    "score_matrix = np.zeros((3, 11), dtype=int)\n",
    "aligned_total = 0\n",
    "print(\"Processing Kriz dataset...\")\n",
    "sys.stdout.flush()\n",
    "for sentence in tqdm(dataset):\n",
    "    curr_matrix, aligned = process_sentence(sentence[\"tokens\"],\n",
    "                                                 sentence[\"token_scores\"],\n",
    "                                                 aligned_data)\n",
    "    aligned_total += aligned\n",
    "    score_matrix += curr_matrix"
   ]
  },
  {
   "cell_type": "code",
   "execution_count": 7,
   "metadata": {},
   "outputs": [
    {
     "name": "stdout",
     "output_type": "stream",
     "text": [
      "1738 sentences total, 1572 aligned (90.0 percent).\n",
      "Word aligner failed to extract word-to-word alignment\n",
      "for 2.00 percent of unidentical sentence alignments\n",
      "Kriz complexity score distribution for different alignment situations:\n",
      "               0\t1\t2\t3\t4\t5\t6\t7\t8\t9\t10\n",
      "Word kept      65.0\t11.0\t5.0\t4.0\t3.0\t2.0\t2.0\t1.0\t1.0\t1.0\t0.0\n",
      "Word removed:  48.0\t10.0\t6.0\t5.0\t5.0\t4.0\t5.0\t5.0\t5.0\t3.0\t0.0\n",
      "Word replaced: 56.0\t11.0\t6.0\t5.0\t4.0\t3.0\t3.0\t2.0\t2.0\t2.0\t0.0\n",
      "Word kept total: 10766, word removed total: 1797, word replaced total: 2037\n",
      "If word is simple when it is kept, scores for simple words have:\n",
      "the mean of 1.14, the median of 0, standard deviation of 2.10.\n",
      "If word is complex when it is replaced with another word, scores for complex words have:\n",
      "the mean of 1.61, the median of 0, standard deviation of 2.46.\n",
      "For other words, the scores have:\n",
      "the mean of 2.27, the median of 1, standard deviation of 2.94.\n"
     ]
    }
   ],
   "source": [
    "sys.stdout.flush()\n",
    "print(\"%d sentences total, %d aligned (%2.1f percent).\" %\n",
    "      (len(dataset), aligned_total, 100 * aligned_total / len(dataset)))\n",
    "print(\"Word aligner failed to extract word-to-word alignment\\n\"\n",
    "      \"for %.2f percent of unidentical sentence alignments\" %\n",
    "      (100 * ALIGNMENT_STATS[\"unsuccessful\"] / ALIGNMENT_STATS[\"total\"]))\n",
    "\n",
    "print(\"Kriz complexity score distribution for different alignment situations:\")\n",
    "print(\"               \" + \"\\t\".join([str(i) for i in range(11)]))\n",
    "print(\"Word kept      \" + \"\\t\".join([str(round(100 * score_matrix[SIMPLE][i]/np.sum(score_matrix[SIMPLE]), 1)) \n",
    "                                     for i in range(11)]))\n",
    "print(\"Word removed:  \" + \"\\t\".join([str(round(100 * score_matrix[UNK][i]/np.sum(score_matrix[UNK]), 1)) \n",
    "                                     for i in range(11)]))\n",
    "print(\"Word replaced: \" + \"\\t\".join([str(round(100 * score_matrix[COMPLEX][i]/np.sum(score_matrix[COMPLEX]), 1)) \n",
    "                                     for i in range(11)]))\n",
    "\n",
    "print(\"Word kept total: %d, word removed total: %d, word replaced total: %d\" % (\n",
    "    np.sum(score_matrix[SIMPLE]), np.sum(score_matrix[UNK]), np.sum(score_matrix[COMPLEX])))\n",
    "\n",
    "ts = np.repeat(np.arange(11), score_matrix[SIMPLE, :])\n",
    "print(\"If word is simple when it is kept, scores for simple words have:\")\n",
    "print(\"the mean of %.2f, the median of %d, standard deviation of %.2f.\" %\n",
    "      (ts.mean(), np.median(ts), ts.std()))\n",
    "tc = np.repeat(np.arange(11), score_matrix[COMPLEX, :])\n",
    "print(\"If word is complex when it is replaced with another word, scores for complex words have:\")\n",
    "print(\"the mean of %.2f, the median of %d, standard deviation of %.2f.\" %\n",
    "      (tc.mean(), np.median(tc), tc.std()))\n",
    "tu = np.repeat(np.arange(11), score_matrix[UNK, :])\n",
    "print(\"For other words, the scores have:\")\n",
    "print(\"the mean of %.2f, the median of %d, standard deviation of %.2f.\" %\n",
    "      (tu.mean(), np.median(tu), tu.std()))"
   ]
  }
 ],
 "metadata": {
  "kernelspec": {
   "display_name": "Python 2",
   "language": "python",
   "name": "python2"
  },
  "language_info": {
   "codemirror_mode": {
    "name": "ipython",
    "version": 2
   },
   "file_extension": ".py",
   "mimetype": "text/x-python",
   "name": "python",
   "nbconvert_exporter": "python",
   "pygments_lexer": "ipython2",
   "version": "2.7.15"
  }
 },
 "nbformat": 4,
 "nbformat_minor": 2
}
